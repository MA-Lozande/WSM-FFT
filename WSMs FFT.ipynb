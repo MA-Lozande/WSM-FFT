{
 "cells": [
  {
   "cell_type": "code",
   "execution_count": 1,
   "id": "ed4a3dfe-cfa6-4168-8d1d-e03f44bc9b0d",
   "metadata": {},
   "outputs": [],
   "source": [
    "import numpy as np\n",
    "import matplotlib.pyplot as plt\n",
    "import matplotlib.animation as animation\n",
    "plt.style.use('dark_background')"
   ]
  },
  {
   "cell_type": "code",
   "execution_count": 2,
   "id": "603a9d33-7e34-4911-86bf-108cba49560a",
   "metadata": {},
   "outputs": [
    {
     "data": {
      "image/png": "[encoded data removed]",
      "text/plain": [
       "<Figure size 640x480 with 1 Axes>"
      ]
     },
     "metadata": {},
     "output_type": "display_data"
    }
   ],
   "source": [
    "L=500\n",
    "x0=50 \n",
    "k0=0.2\n",
    "sigma=20\n",
    "horizon=L//2\n",
    "dt=0.01\n",
    "frames=100000\n",
    "x=np.arange(L)\n",
    "k=2*np.pi*np.fft.fftfreq(L)\n",
    "\n",
    "psi0=np.exp(-((x-x0)**2)/(2*sigma**2))*np.exp(1j*k0*(x-x0))\n",
    "a=np.sum(np.abs(psi0)**2) #normalizing factor\n",
    "psi0 /= np.sqrt(a)\n",
    "\n",
    "fig, ax=plt.subplots()\n",
    "ax.set_xlim(0,L)\n",
    "ax.set_ylim(0, 0.1)\n",
    "ax.set_xlabel(\"Position $(x)$\")\n",
    "ax.set_ylabel(\"|ψ|²\")\n",
    "line, = ax.plot(x,np.abs(psi0)**2, color=\"blue\")"
   ]
  },
  {
   "cell_type": "code",
   "execution_count": null,
   "id": "c78cbd80-27b5-48c7-9830-d83504af35ed",
   "metadata": {},
   "outputs": [],
   "source": [
    "psi = psi0.copy()\n",
    "t_list=[] #empty list for t\n",
    "x_c_list = []  #store x_c values\n",
    "time_list = [] #store corresponding time values\n",
    "v_eff_list = [] #effective group velocity\n",
    "\n",
    "animate = animation.FFMpegWriter(fps=100, metadata=dict(artist='You'), bitrate=1800)\n",
    "with animate.saving(fig, \"Weyl_wavepacket_FFT.mp4\", dpi=100):\n",
    "    for frame in range(frames):\n",
    "        x_c=np.sum(x*np.abs(psi)**2)/np.sum(np.abs(psi)**2) #center position x_c of the packet\n",
    "        t=(2*x_c/L) #linear tilt (local tilt experienced by the packet at its current position)\n",
    "        t_list.append(t)\n",
    "        x_c_list.append(x_c)\n",
    "        time_list.append(frame * dt)\n",
    "\n",
    "        #1st model\n",
    "        E1 = np.sin(k) - t * np.sin(k)\n",
    "        #2nd model\n",
    "        E2= 2*np.sin(k/2) - t*np.sin(k) \n",
    "            \n",
    "        psi_k=np.fft.fft(psi)\n",
    "        psi_k *= np.exp(-1j*E2*dt)\n",
    "        psi = np.fft.ifft(psi_k)\n",
    "        psi /= np.sqrt(np.sum(np.abs(psi)**2))\n",
    "\n",
    "        v1=np.cos(k)-t*np.cos(k) #1st model group velocity\n",
    "        v_eff1=np.sum(np.abs(psi_k)**2*v1)/np.sum(np.abs(psi_k)**2)\n",
    "        v2=np.cos(k/2)-t*np.cos(k) #2nd model group velocity\n",
    "        v_eff2=np.sum(np.abs(psi_k)**2*v2)/np.sum(np.abs(psi_k)**2)\n",
    "        v_eff_list.append(v_eff2)\n",
    "        \n",
    "        line.set_data(x, np.abs(psi)**2) #updates the plot wave pacpet prob\n",
    "        animate.grab_frame() #capture the updated plot as a frame for animation\n",
    "\n",
    "plt.close(fig)"
   ]
  },
  {
   "cell_type": "code",
   "execution_count": null,
   "id": "a11d3246-8a89-4181-bb2b-195fd8aadbfb",
   "metadata": {},
   "outputs": [],
   "source": [
    "final_x_c = x_c_list[-1]\n",
    "\n",
    "plt.figure(figsize=(8,5))\n",
    "plt.plot(time_list, x_c_list, label=f'k0 @ {k0} = {final_x_c:.2f}', color='blue')\n",
    "plt.xlabel('Time')\n",
    "plt.ylabel('Position $(x)$')\n",
    "plt.xlim(0,frames*dt)\n",
    "plt.ylim(0,500)\n",
    "plt.title(f'Wavepacket Position vs. Time (k0={k0})')\n",
    "plt.legend()\n",
    "plt.savefig(f\"FFT_2 @k0={k0}.png\", dpi=600, bbox_inches='tight')\n",
    "plt.show()\n",
    "\n",
    "final_v_eff = v_eff_list[-1]\n",
    "\n",
    "plt.figure(figsize=(10,6))\n",
    "plt.plot(time_list, v_eff_list, label=f'Velocity @ k{k0} = {final_v_eff:.2f}', color='green')\n",
    "plt.xlabel('Time')\n",
    "plt.ylabel('Velocity $(v)$')\n",
    "plt.xlim(0,frames*dt)\n",
    "plt.title('Wave packet velocity vs time')\n",
    "plt.legend()\n",
    "plt.tight_layout()\n",
    "plt.savefig(f'Velocity_vs_time @ k{k0}.png', dpi=600, bbox_inches='tight')\n",
    "plt.show()"
   ]
  }
 ],
 "metadata": {
  "kernelspec": {
   "display_name": "Python 3 (ipykernel)",
   "language": "python",
   "name": "python3"
  },
  "language_info": {
   "codemirror_mode": {
    "name": "ipython",
    "version": 3
   },
   "file_extension": ".py",
   "mimetype": "text/x-python",
   "name": "python",
   "nbconvert_exporter": "python",
   "pygments_lexer": "ipython3",
   "version": "3.13.0"
  }
 },
 "nbformat": 4,
 "nbformat_minor": 5
}
